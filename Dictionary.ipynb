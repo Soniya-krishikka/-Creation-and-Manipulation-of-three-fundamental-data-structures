{
 "cells": [
  {
   "cell_type": "code",
   "execution_count": 4,
   "id": "c5336134-bed0-443f-935e-587a9202f02e",
   "metadata": {},
   "outputs": [],
   "source": [
    "# Creating a dictionary\n",
    "my_dict = {'a': 1, 'b': 2, 'c': 3}"
   ]
  },
  {
   "cell_type": "code",
   "execution_count": 6,
   "id": "67ea0d67-e1ba-4049-b815-be4411aad534",
   "metadata": {},
   "outputs": [
    {
     "name": "stdout",
     "output_type": "stream",
     "text": [
      "\n",
      "Original dictionary: {'a': 1, 'b': 2, 'c': 3}\n"
     ]
    }
   ],
   "source": [
    "# Basic operations on a dictionary\n",
    "print(\"\\nOriginal dictionary:\", my_dict)"
   ]
  },
  {
   "cell_type": "code",
   "execution_count": 14,
   "id": "0bb19564-2d6a-4e3f-9e46-12c16d6e4a3c",
   "metadata": {},
   "outputs": [
    {
     "name": "stdout",
     "output_type": "stream",
     "text": [
      "Dictionary after adding key 'd': {'a': 10, 'c': 3, 'd': 4}\n"
     ]
    }
   ],
   "source": [
    "# Adding a key-value pair to the dictionary\n",
    "my_dict['d'] = 4\n",
    "print(\"Dictionary after adding key 'd':\", my_dict)"
   ]
  },
  {
   "cell_type": "code",
   "execution_count": 10,
   "id": "772bbd4a-97e6-4680-a527-a90533ad8b16",
   "metadata": {},
   "outputs": [
    {
     "name": "stdout",
     "output_type": "stream",
     "text": [
      "Dictionary after removing key 'b': {'a': 1, 'c': 3}\n"
     ]
    }
   ],
   "source": [
    "# Removing a key-value pair from the dictionary\n",
    "del my_dict['b']\n",
    "print(\"Dictionary after removing key 'b':\", my_dict)"
   ]
  },
  {
   "cell_type": "code",
   "execution_count": 12,
   "id": "542236c9-b55b-4456-92ce-59974b5e252b",
   "metadata": {},
   "outputs": [
    {
     "name": "stdout",
     "output_type": "stream",
     "text": [
      "Dictionary after modifying key 'a' to 10: {'a': 10, 'c': 3}\n"
     ]
    }
   ],
   "source": [
    "# Modifying a value in the dictionary\n",
    "my_dict['a'] = 10\n",
    "print(\"Dictionary after modifying key 'a' to 10:\", my_dict)"
   ]
  }
 ],
 "metadata": {
  "kernelspec": {
   "display_name": "Python 3 (ipykernel)",
   "language": "python",
   "name": "python3"
  },
  "language_info": {
   "codemirror_mode": {
    "name": "ipython",
    "version": 3
   },
   "file_extension": ".py",
   "mimetype": "text/x-python",
   "name": "python",
   "nbconvert_exporter": "python",
   "pygments_lexer": "ipython3",
   "version": "3.11.7"
  }
 },
 "nbformat": 4,
 "nbformat_minor": 5
}
