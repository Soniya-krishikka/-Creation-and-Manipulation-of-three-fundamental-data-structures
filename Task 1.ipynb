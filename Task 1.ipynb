{
 "cells": [
  {
   "cell_type": "code",
   "execution_count": 2,
   "id": "44abc68a-b588-4147-9935-ef2b2b768187",
   "metadata": {},
   "outputs": [
    {
     "name": "stdout",
     "output_type": "stream",
     "text": [
      "Original list: [1, 2, 3, 4, 5]\n",
      "List after adding 6: [1, 2, 3, 4, 5, 6]\n",
      "List after removing 2: [1, 3, 4, 5, 6]\n",
      "List after modifying the third element to 10: [1, 3, 10, 5, 6]\n",
      "\n",
      "Original dictionary: {'a': 1, 'b': 2, 'c': 3}\n",
      "Dictionary after adding key 'd': {'a': 1, 'b': 2, 'c': 3, 'd': 4}\n",
      "Dictionary after removing key 'b': {'a': 1, 'c': 3, 'd': 4}\n",
      "Dictionary after modifying key 'a' to 10: {'a': 10, 'c': 3, 'd': 4}\n",
      "\n",
      "Original set: {1, 2, 3, 4, 5}\n",
      "Set after adding 6: {1, 2, 3, 4, 5, 6}\n",
      "Set after removing 3: {1, 2, 4, 5, 6}\n",
      "Set after modifying (removing 4 and adding 10): {1, 2, 5, 6, 10}\n"
     ]
    }
   ],
   "source": [
    "# Creating a list, a dictionary, and a set\n",
    "my_list = [1, 2, 3, 4, 5]\n",
    "my_dict = {'a': 1, 'b': 2, 'c': 3}\n",
    "my_set = {1, 2, 3, 4, 5}\n",
    "\n",
    "# Basic operations on a list\n",
    "print(\"Original list:\", my_list)\n",
    "\n",
    "# Adding an element to the list\n",
    "my_list.append(6)\n",
    "print(\"List after adding 6:\", my_list)\n",
    "\n",
    "# Removing an element from the list\n",
    "my_list.remove(2)\n",
    "print(\"List after removing 2:\", my_list)\n",
    "\n",
    "# Modifying an element in the list\n",
    "my_list[2] = 10\n",
    "print(\"List after modifying the third element to 10:\", my_list)\n",
    "\n",
    "# Basic operations on a dictionary\n",
    "print(\"\\nOriginal dictionary:\", my_dict)\n",
    "\n",
    "# Adding a key-value pair to the dictionary\n",
    "my_dict['d'] = 4\n",
    "print(\"Dictionary after adding key 'd':\", my_dict)\n",
    "\n",
    "# Removing a key-value pair from the dictionary\n",
    "del my_dict['b']\n",
    "print(\"Dictionary after removing key 'b':\", my_dict)\n",
    "\n",
    "# Modifying a value in the dictionary\n",
    "my_dict['a'] = 10\n",
    "print(\"Dictionary after modifying key 'a' to 10:\", my_dict)\n",
    "\n",
    "# Basic operations on a set\n",
    "print(\"\\nOriginal set:\", my_set)\n",
    "\n",
    "# Adding an element to the set\n",
    "my_set.add(6)\n",
    "print(\"Set after adding 6:\", my_set)\n",
    "\n",
    "# Removing an element from the set\n",
    "my_set.remove(3)\n",
    "print(\"Set after removing 3:\", my_set)\n",
    "\n",
    "# Modifying a set (sets do not support direct modification, but you can remove and add elements)\n",
    "my_set.discard(4)  # Remove element 4\n",
    "my_set.add(10)     # Add element 10\n",
    "print(\"Set after modifying (removing 4 and adding 10):\", my_set)"
   ]
  },
  {
   "cell_type": "code",
   "execution_count": null,
   "id": "3f1927c5-abb5-461a-bc28-6cf23225b3f2",
   "metadata": {},
   "outputs": [],
   "source": []
  }
 ],
 "metadata": {
  "kernelspec": {
   "display_name": "Python 3 (ipykernel)",
   "language": "python",
   "name": "python3"
  },
  "language_info": {
   "codemirror_mode": {
    "name": "ipython",
    "version": 3
   },
   "file_extension": ".py",
   "mimetype": "text/x-python",
   "name": "python",
   "nbconvert_exporter": "python",
   "pygments_lexer": "ipython3",
   "version": "3.11.7"
  }
 },
 "nbformat": 4,
 "nbformat_minor": 5
}
